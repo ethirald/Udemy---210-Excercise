{
  "nbformat": 4,
  "nbformat_minor": 0,
  "metadata": {
    "colab": {
      "provenance": [],
      "toc_visible": true,
      "authorship_tag": "ABX9TyPuNg1PViLpMHcnabA3sjBc",
      "include_colab_link": true
    },
    "kernelspec": {
      "name": "python3",
      "display_name": "Python 3"
    },
    "language_info": {
      "name": "python"
    }
  },
  "cells": [
    {
      "cell_type": "markdown",
      "metadata": {
        "id": "view-in-github",
        "colab_type": "text"
      },
      "source": [
        "<a href=\"https://colab.research.google.com/github/ethirald/Udemy---210-Excercise/blob/main/intro.ipynb\" target=\"_parent\"><img src=\"https://colab.research.google.com/assets/colab-badge.svg\" alt=\"Open In Colab\"/></a>"
      ]
    },
    {
      "cell_type": "markdown",
      "source": [
        "###Sales"
      ],
      "metadata": {
        "id": "92DKgbaw1hjT"
      }
    },
    {
      "cell_type": "code",
      "source": [
        "revenue = 10000\n",
        "tax = 0.19\n",
        "income = revenue * tax\n",
        "income"
      ],
      "metadata": {
        "colab": {
          "base_uri": "https://localhost:8080/"
        },
        "id": "dZ_UPrEu1Fws",
        "outputId": "e9a74cd7-cb55-4ccf-c716-d172eb819c89"
      },
      "execution_count": 6,
      "outputs": [
        {
          "output_type": "execute_result",
          "data": {
            "text/plain": [
              "1900.0"
            ]
          },
          "metadata": {},
          "execution_count": 6
        }
      ]
    },
    {
      "cell_type": "code",
      "source": [
        "print(income)"
      ],
      "metadata": {
        "colab": {
          "base_uri": "https://localhost:8080/"
        },
        "id": "ccNLWM0o1Rgn",
        "outputId": "4b7ae1bd-6870-48c1-e1a1-331588cbc4cb"
      },
      "execution_count": 7,
      "outputs": [
        {
          "output_type": "stream",
          "name": "stdout",
          "text": [
            "1900.0\n"
          ]
        }
      ]
    },
    {
      "cell_type": "markdown",
      "source": [
        "###Summary"
      ],
      "metadata": {
        "id": "XiSZl3Zd1mfW"
      }
    },
    {
      "cell_type": "code",
      "source": [
        "import numpy as np\n",
        "np.__version__"
      ],
      "metadata": {
        "colab": {
          "base_uri": "https://localhost:8080/",
          "height": 35
        },
        "id": "HuBzY2861TwT",
        "outputId": "4781cab2-3246-4f43-dff6-cd5f2a16a159"
      },
      "execution_count": 14,
      "outputs": [
        {
          "output_type": "execute_result",
          "data": {
            "text/plain": [
              "'1.25.2'"
            ],
            "application/vnd.google.colaboratory.intrinsic+json": {
              "type": "string"
            }
          },
          "metadata": {},
          "execution_count": 14
        }
      ]
    },
    {
      "cell_type": "code",
      "source": [
        "np.random.rand?"
      ],
      "metadata": {
        "id": "cWTl3qw21yV6"
      },
      "execution_count": 10,
      "outputs": []
    },
    {
      "cell_type": "code",
      "source": [
        "!pip install imageai"
      ],
      "metadata": {
        "colab": {
          "base_uri": "https://localhost:8080/"
        },
        "id": "hwNap5o3178S",
        "outputId": "bad428e1-6d00-4e38-e37f-4ee5ea4f6ced"
      },
      "execution_count": 12,
      "outputs": [
        {
          "output_type": "stream",
          "name": "stdout",
          "text": [
            "Collecting imageai\n",
            "  Downloading imageai-3.0.3-py3-none-any.whl (69 kB)\n",
            "\u001b[2K     \u001b[90m━━━━━━━━━━━━━━━━━━━━━━━━━━━━━━━━━━━━━━━━\u001b[0m \u001b[32m69.8/69.8 kB\u001b[0m \u001b[31m2.0 MB/s\u001b[0m eta \u001b[36m0:00:00\u001b[0m\n",
            "\u001b[?25hInstalling collected packages: imageai\n",
            "Successfully installed imageai-3.0.3\n"
          ]
        }
      ]
    },
    {
      "cell_type": "code",
      "source": [
        "import imageai"
      ],
      "metadata": {
        "id": "TZm5NHrG1-c7"
      },
      "execution_count": 13,
      "outputs": []
    },
    {
      "cell_type": "markdown",
      "source": [
        "### Markdown"
      ],
      "metadata": {
        "id": "5jcSx3s82Pvr"
      }
    },
    {
      "cell_type": "markdown",
      "source": [
        "Example of *markdown*  \n",
        "Example of **markdown**  \n",
        "Example of __markdown__  \n",
        "Example of `markdown`  \n",
        "```\n",
        "Example of markdown\n",
        "```\n",
        "> Python\n",
        "> Code\n",
        "\n",
        "An ordered list:\n",
        "1. One\n",
        "2. Two\n",
        "3. Three\n",
        "\n",
        "An unordered list:\n",
        "* One\n",
        "* Two\n",
        "* Three\n",
        "\n",
        "[Google](www.google.it)  \n",
        "![Python](https://encrypted-tbn0.gstatic.com/images?q=tbn:ANd9GcQmmngeGJFNocA_JXfnBGI-yKvz1WNGQ2P7hYqKDrpO2w&s)\n",
        "\n"
      ],
      "metadata": {
        "id": "GxRYXsJp2S2k"
      }
    },
    {
      "cell_type": "markdown",
      "source": [
        "$ y = x^2 $  \n",
        "$ y = \\frac{\\frac{x^3}{3x^2}}{\\frac{x^5-x^2}{ \\sum_{i=1}{(3x+n)^n}}} $"
      ],
      "metadata": {
        "id": "p3uYSn2X3hQL"
      }
    },
    {
      "cell_type": "markdown",
      "source": [
        "$A = \\begin{pmatrix}\n",
        "a_{1, 1} & a_{1, 2} & a_{1, 3} \\\\\n",
        "a_{2, 1} & a_{2, 2} & a_{2, 3} \\\\\n",
        "a_{3, 1} & a_{3, 2} & a_{3, 3}\n",
        "\\end{pmatrix}$"
      ],
      "metadata": {
        "id": "8vWcQhYe5bIZ"
      }
    },
    {
      "cell_type": "markdown",
      "source": [
        "$A = \\begin{matrix}\n",
        "a_{1, 1} & a_{1, 2} & a_{1, 3} \\\\\n",
        "a_{2, 1} & a_{2, 2} & a_{2, 3} \\\\\n",
        "a_{3, 1} & a_{3, 2} & a_{3, 3}\n",
        "\\end{matrix}$"
      ],
      "metadata": {
        "id": "d1Z3_-QU-dg5"
      }
    },
    {
      "cell_type": "markdown",
      "source": [
        "Header1 | Header2 | Header3 |\n",
        "---|---|---|\n",
        "Value1 | Value2 | Value3 |\n",
        "Value4 | Value5 | Value6 |"
      ],
      "metadata": {
        "id": "lOGK_hAr_0KA"
      }
    },
    {
      "cell_type": "code",
      "source": [
        "    import datetime\n",
        "\n",
        "\n",
        "    d1 = datetime.date(2020, 7, 21)\n",
        "    d2 = datetime.date(2020, 12, 31)\n",
        "    diff = (d2 - d1).days\n",
        "    print(f'Number of days: {diff}')"
      ],
      "metadata": {
        "colab": {
          "base_uri": "https://localhost:8080/"
        },
        "id": "mSgIcShE2QoB",
        "outputId": "84deacd2-6331-434d-a093-759e7384905a"
      },
      "execution_count": 1,
      "outputs": [
        {
          "output_type": "stream",
          "name": "stdout",
          "text": [
            "Number of days: 163\n"
          ]
        }
      ]
    }
  ]
}