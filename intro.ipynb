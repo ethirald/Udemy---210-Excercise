{
  "nbformat": 4,
  "nbformat_minor": 0,
  "metadata": {
    "colab": {
      "provenance": [],
      "toc_visible": true,
      "authorship_tag": "ABX9TyO61YtN7dL1n7pSbRwI4glR",
      "include_colab_link": true
    },
    "kernelspec": {
      "name": "python3",
      "display_name": "Python 3"
    },
    "language_info": {
      "name": "python"
    }
  },
  "cells": [
    {
      "cell_type": "markdown",
      "metadata": {
        "id": "view-in-github",
        "colab_type": "text"
      },
      "source": [
        "<a href=\"https://colab.research.google.com/github/ethirald/Udemy---210-Excercise/blob/main/intro.ipynb\" target=\"_parent\"><img src=\"https://colab.research.google.com/assets/colab-badge.svg\" alt=\"Open In Colab\"/></a>"
      ]
    },
    {
      "cell_type": "markdown",
      "source": [
        "###Sales"
      ],
      "metadata": {
        "id": "92DKgbaw1hjT"
      }
    },
    {
      "cell_type": "code",
      "source": [
        "revenue = 10000\n",
        "tax = 0.19\n",
        "income = revenue * tax\n",
        "income"
      ],
      "metadata": {
        "colab": {
          "base_uri": "https://localhost:8080/"
        },
        "id": "dZ_UPrEu1Fws",
        "outputId": "e9a74cd7-cb55-4ccf-c716-d172eb819c89"
      },
      "execution_count": 6,
      "outputs": [
        {
          "output_type": "execute_result",
          "data": {
            "text/plain": [
              "1900.0"
            ]
          },
          "metadata": {},
          "execution_count": 6
        }
      ]
    },
    {
      "cell_type": "code",
      "source": [
        "print(income)"
      ],
      "metadata": {
        "colab": {
          "base_uri": "https://localhost:8080/"
        },
        "id": "ccNLWM0o1Rgn",
        "outputId": "4b7ae1bd-6870-48c1-e1a1-331588cbc4cb"
      },
      "execution_count": 7,
      "outputs": [
        {
          "output_type": "stream",
          "name": "stdout",
          "text": [
            "1900.0\n"
          ]
        }
      ]
    },
    {
      "cell_type": "markdown",
      "source": [
        "###Summary"
      ],
      "metadata": {
        "id": "XiSZl3Zd1mfW"
      }
    },
    {
      "cell_type": "code",
      "source": [
        "import numpy as np\n",
        "np.__version__"
      ],
      "metadata": {
        "colab": {
          "base_uri": "https://localhost:8080/",
          "height": 35
        },
        "id": "HuBzY2861TwT",
        "outputId": "4781cab2-3246-4f43-dff6-cd5f2a16a159"
      },
      "execution_count": 14,
      "outputs": [
        {
          "output_type": "execute_result",
          "data": {
            "text/plain": [
              "'1.25.2'"
            ],
            "application/vnd.google.colaboratory.intrinsic+json": {
              "type": "string"
            }
          },
          "metadata": {},
          "execution_count": 14
        }
      ]
    },
    {
      "cell_type": "code",
      "source": [
        "np.random.rand?"
      ],
      "metadata": {
        "id": "cWTl3qw21yV6"
      },
      "execution_count": 10,
      "outputs": []
    },
    {
      "cell_type": "code",
      "source": [
        "!pip install imageai"
      ],
      "metadata": {
        "colab": {
          "base_uri": "https://localhost:8080/"
        },
        "id": "hwNap5o3178S",
        "outputId": "bad428e1-6d00-4e38-e37f-4ee5ea4f6ced"
      },
      "execution_count": 12,
      "outputs": [
        {
          "output_type": "stream",
          "name": "stdout",
          "text": [
            "Collecting imageai\n",
            "  Downloading imageai-3.0.3-py3-none-any.whl (69 kB)\n",
            "\u001b[2K     \u001b[90m━━━━━━━━━━━━━━━━━━━━━━━━━━━━━━━━━━━━━━━━\u001b[0m \u001b[32m69.8/69.8 kB\u001b[0m \u001b[31m2.0 MB/s\u001b[0m eta \u001b[36m0:00:00\u001b[0m\n",
            "\u001b[?25hInstalling collected packages: imageai\n",
            "Successfully installed imageai-3.0.3\n"
          ]
        }
      ]
    },
    {
      "cell_type": "code",
      "source": [
        "import imageai"
      ],
      "metadata": {
        "id": "TZm5NHrG1-c7"
      },
      "execution_count": 13,
      "outputs": []
    },
    {
      "cell_type": "markdown",
      "source": [
        "### Markdown"
      ],
      "metadata": {
        "id": "5jcSx3s82Pvr"
      }
    },
    {
      "cell_type": "markdown",
      "source": [
        "Example of *markdown*  \n",
        "Example of **markdown**  \n",
        "Example of __markdown__  \n",
        "Example of `markdown`  \n",
        "```\n",
        "Example of markdown\n",
        "```\n",
        "> Python\n",
        "> Code\n",
        "\n",
        "An ordered list:\n",
        "1. One\n",
        "2. Two\n",
        "3. Three\n",
        "\n",
        "An unordered list:\n",
        "* One\n",
        "* Two\n",
        "* Three\n",
        "\n",
        "[Google](www.google.it)  \n",
        "![Python](https://encrypted-tbn0.gstatic.com/images?q=tbn:ANd9GcQmmngeGJFNocA_JXfnBGI-yKvz1WNGQ2P7hYqKDrpO2w&s)\n",
        "\n"
      ],
      "metadata": {
        "id": "GxRYXsJp2S2k"
      }
    },
    {
      "cell_type": "markdown",
      "source": [
        "$ y = x^2 $  \n",
        "$ y = \\frac{\\frac{x^3}{3x^2}}{\\frac{x^5-x^2}{ \\sum_{i=1}{(3x+n)^n}}} $"
      ],
      "metadata": {
        "id": "p3uYSn2X3hQL"
      }
    },
    {
      "cell_type": "markdown",
      "source": [
        "$A = \\begin{pmatrix}\n",
        "a_{1, 1} & a_{1, 2} & a_{1, 3} \\\\\n",
        "a_{2, 1} & a_{2, 2} & a_{2, 3} \\\\\n",
        "a_{3, 1} & a_{3, 2} & a_{3, 3}\n",
        "\\end{pmatrix}$"
      ],
      "metadata": {
        "id": "8vWcQhYe5bIZ"
      }
    },
    {
      "cell_type": "markdown",
      "source": [
        "$A = \\begin{matrix}\n",
        "a_{1, 1} & a_{1, 2} & a_{1, 3} \\\\\n",
        "a_{2, 1} & a_{2, 2} & a_{2, 3} \\\\\n",
        "a_{3, 1} & a_{3, 2} & a_{3, 3}\n",
        "\\end{matrix}$"
      ],
      "metadata": {
        "id": "d1Z3_-QU-dg5"
      }
    },
    {
      "cell_type": "markdown",
      "source": [
        "Header1 | Header2 | Header3 |\n",
        "---|---|---|\n",
        "Value1 | Value2 | Value3 |\n",
        "Value4 | Value5 | Value6 |"
      ],
      "metadata": {
        "id": "lOGK_hAr_0KA"
      }
    },
    {
      "cell_type": "markdown",
      "source": [
        "### Exercise"
      ],
      "metadata": {
        "id": "ITI3v629tMVv"
      }
    },
    {
      "cell_type": "code",
      "source": [
        "    import datetime\n",
        "\n",
        "\n",
        "    d1 = datetime.date(2020, 7, 21)\n",
        "    d2 = datetime.date(2020, 12, 31)\n",
        "    diff = (d2 - d1).days\n",
        "    print(f'Number of days: {diff}')"
      ],
      "metadata": {
        "colab": {
          "base_uri": "https://localhost:8080/"
        },
        "id": "mSgIcShE2QoB",
        "outputId": "84deacd2-6331-434d-a093-759e7384905a"
      },
      "execution_count": 1,
      "outputs": [
        {
          "output_type": "stream",
          "name": "stdout",
          "text": [
            "Number of days: 163\n"
          ]
        }
      ]
    },
    {
      "cell_type": "code",
      "source": [
        "#Using the built-in datetime module, determine the exact time elapsed between the dates:\n",
        "#Jul 20 2020 11:30:00\n",
        "#2021-02-20 10:25:00\n",
        "#Then print the result to the console\n",
        "\n",
        "import datetime\n",
        "diff = datetime.datetime(2021,2,20,10,25,0) - datetime.datetime(2020,7,20,11,30,0)\n",
        "print(diff)"
      ],
      "metadata": {
        "colab": {
          "base_uri": "https://localhost:8080/"
        },
        "id": "fkqeAhHGtFjP",
        "outputId": "74084c4f-4e1f-4adc-8e86-9875a6b76745"
      },
      "execution_count": 3,
      "outputs": [
        {
          "output_type": "stream",
          "name": "stdout",
          "text": [
            "214 days, 22:55:00\n"
          ]
        }
      ]
    },
    {
      "cell_type": "code",
      "source": [
        "'''\n",
        "Using the built-in datetime module, the datetime class and the datetime.datetime.strftime() method format the following date:\n",
        "    2021-04-20 11:30:00\n",
        "To the following formats:\n",
        "    2021-04-20\n",
        "    20-04-2021\n",
        "    04-2021\n",
        "    April-2021\n",
        "    20 April, 2021\n",
        "    2021-04-20 11:30:00\n",
        "    04/20/21 11:30:00\n",
        "    20(Tue) April 2021\n",
        "Then print the formatted dates to the console.\n",
        "'''\n",
        "from datetime import datetime\n",
        "a = datetime(2021,4,20,11,30,00)\n",
        "print(a.strftime('%Y-%m-%d'))\n",
        "print(a.strftime('%d-%m-%Y'))\n",
        "print(a.strftime('%m-%Y'))\n",
        "print(a.strftime('%B-%Y'))\n",
        "print(a.strftime('%d %B, %Y'))\n",
        "print(a.strftime('%Y-%m-%d %H:%M:%S'))\n",
        "print(a.strftime('%m/%d/%y %H:%M:%S'))\n",
        "print(a.strftime('%d(%a) %B %Y'))"
      ],
      "metadata": {
        "colab": {
          "base_uri": "https://localhost:8080/"
        },
        "id": "nNShoBlAtFhM",
        "outputId": "009ac6b2-faf3-4e9b-af34-79f224365423"
      },
      "execution_count": 5,
      "outputs": [
        {
          "output_type": "stream",
          "name": "stdout",
          "text": [
            "2021-04-20\n",
            "20-04-2021\n",
            "04-2021\n",
            "April-2021\n",
            "20 April, 2021\n",
            "2021-04-20 11:30:00\n",
            "04/20/21 11:30:00\n",
            "20(Tue) April 2021\n"
          ]
        }
      ]
    },
    {
      "cell_type": "code",
      "source": [
        "'''Using the built-in datetime module and the datetime.datetime.strptime() function, parse the following str objects:\n",
        "    date_str_1 = '3 March 1995'\n",
        "    date_str_2 = '3/9/1995'\n",
        "    date_str_3 = '21-07-2021'\n",
        "to datetime objects. Print the result to the console.'''\n",
        "from datetime import datetime\n",
        "\n",
        "date_str_1 = '3 March 1995'\n",
        "date_str_2 = '3/9/1995'\n",
        "date_str_3 = '21-07-2021'\n",
        "\n",
        "dt1 = datetime.strptime(date_str_1, '%d %B %Y')\n",
        "dt2 = datetime.strptime(date_str_2, '%d/%m/%Y')\n",
        "dt3 = datetime.strptime(date_str_3, '%d-%m-%Y')\n",
        "\n",
        "print(dt1)\n",
        "print(dt2)\n",
        "print(dt3)"
      ],
      "metadata": {
        "colab": {
          "base_uri": "https://localhost:8080/"
        },
        "id": "QJSu10-svmw8",
        "outputId": "35183ff2-df9d-4138-ffdb-9b94f6fd07f3"
      },
      "execution_count": 7,
      "outputs": [
        {
          "output_type": "stream",
          "name": "stdout",
          "text": [
            "1995-03-03 00:00:00\n",
            "1995-09-03 00:00:00\n",
            "2021-07-21 00:00:00\n"
          ]
        }
      ]
    },
    {
      "cell_type": "code",
      "source": [
        "#Using the built-in datetime module, calculate the number of days until the end of the current year.\n",
        "\n",
        "import datetime\n",
        "print(f'Number of days until the end of the year: {abs(datetime.datetime(datetime.date.today().year+1,1,1)-datetime.datetime.now()).days}')"
      ],
      "metadata": {
        "colab": {
          "base_uri": "https://localhost:8080/"
        },
        "id": "rDQczE4w2k0H",
        "outputId": "58cdf915-a914-4d91-d4c0-9254ef052679"
      },
      "execution_count": 11,
      "outputs": [
        {
          "output_type": "stream",
          "name": "stdout",
          "text": [
            "Number of days until the end of the year: 241\n"
          ]
        }
      ]
    },
    {
      "cell_type": "code",
      "source": [
        "#Using the built-in datetime module, calculate the exact time remaining until the end of the current year.\n",
        "\n",
        "import datetime\n",
        "print(f'Until the end of the year: {abs(datetime.datetime(datetime.date.today().year+1,1,1)-datetime.datetime.today())}')"
      ],
      "metadata": {
        "id": "Zk3WAfeS2m45"
      },
      "execution_count": null,
      "outputs": []
    },
    {
      "cell_type": "code",
      "source": [
        "'''Using the built-in datetime module, the date and timedelta classes from the given date 2020-01-01 00:00:00 get the date:\n",
        "  shifted by 7 days\n",
        "  shifted by 30 days\n",
        "  shifted by 30 hours\n",
        "  shifted by 15 minutes'''\n",
        "\n",
        "import datetime\n",
        "d1 = datetime.datetime(2020,1,1,0,0,0)\n",
        "\n",
        "#print(d1)\n",
        "print((d1+datetime.timedelta(7)).strftime('%Y-%m-%d %H:%M:%S'))\n",
        "print((d1+datetime.timedelta(30)).strftime('%Y-%m-%d %H:%M:%S'))\n",
        "print((d1+datetime.timedelta(hours=30)).strftime('%Y-%m-%d %H:%M:%S'))\n",
        "print((d1+datetime.timedelta(minutes=15)).strftime('%Y-%m-%d %H:%M:%S'))"
      ],
      "metadata": {
        "colab": {
          "base_uri": "https://localhost:8080/"
        },
        "id": "w-ZNIz7ZCINc",
        "outputId": "1d88121b-8fd0-4e6b-c7cc-7209e505412c"
      },
      "execution_count": 13,
      "outputs": [
        {
          "output_type": "stream",
          "name": "stdout",
          "text": [
            "2020-01-08 00:00:00\n",
            "2020-01-31 00:00:00\n",
            "2020-01-02 06:00:00\n",
            "2020-01-01 00:15:00\n"
          ]
        }
      ]
    },
    {
      "cell_type": "code",
      "source": [
        "'''\n",
        "Using the built-in datetime module, datetime and timedelta classes, create a list of dates and assign to variable dates.\n",
        "Dates start from 2020-01-01 00:00:00, end on 2020-01-04 16:00:00 and differ by 8h. Then print each date to the console.\n",
        "'''\n",
        "\n",
        "import datetime\n",
        "a = datetime.datetime(2020,1,1,0,0)\n",
        "delta = datetime.timedelta(hours=8)\n",
        "dates = [a + i * delta for i in range(12)]\n",
        "\n",
        "for date in dates:\n",
        "    print(date)"
      ],
      "metadata": {
        "colab": {
          "base_uri": "https://localhost:8080/"
        },
        "id": "KI3LJiOVKQue",
        "outputId": "85559ed5-f6d6-4291-8890-994cc54332a5"
      },
      "execution_count": 17,
      "outputs": [
        {
          "output_type": "stream",
          "name": "stdout",
          "text": [
            "2020-01-01 00:00:00\n",
            "2020-01-01 08:00:00\n",
            "2020-01-01 16:00:00\n",
            "2020-01-02 00:00:00\n",
            "2020-01-02 08:00:00\n",
            "2020-01-02 16:00:00\n",
            "2020-01-03 00:00:00\n",
            "2020-01-03 08:00:00\n",
            "2020-01-03 16:00:00\n",
            "2020-01-04 00:00:00\n",
            "2020-01-04 08:00:00\n",
            "2020-01-04 16:00:00\n"
          ]
        }
      ]
    },
    {
      "cell_type": "code",
      "source": [
        "# Using the built-in datetime module calculate the future value of the investment (present value)\n",
        "#of USD 1000 with an annual interest rate of 4% (rate) and daily compound capitalization of interest,\n",
        "#assuming the duration of the investment from 2021-07-01 to 2021-12-31. For calculations, assume that the year has 365 days.\n",
        "\n",
        "import datetime\n",
        "\n",
        "rate = 0.04\n",
        "pv = 1000\n",
        "duration = datetime.date(2021,12,31)-datetime.date(2021,7,1)\n",
        "#  Future value = Capital x (1 + daily rate )^days\n",
        "future_value  = pv * (1 + rate/365) ** duration.days\n",
        "print(f'Future value: $ {future_value:.2f}')"
      ],
      "metadata": {
        "colab": {
          "base_uri": "https://localhost:8080/"
        },
        "id": "lgne162KRVRN",
        "outputId": "71cf2de8-39fa-4410-8415-834f79d7efb8"
      },
      "execution_count": 22,
      "outputs": [
        {
          "output_type": "stream",
          "name": "stdout",
          "text": [
            "Future value: $ 1020.26\n"
          ]
        }
      ]
    }
  ]
}