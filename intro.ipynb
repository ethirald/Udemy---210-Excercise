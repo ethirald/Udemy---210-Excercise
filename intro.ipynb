{
  "nbformat": 4,
  "nbformat_minor": 0,
  "metadata": {
    "colab": {
      "provenance": [],
      "authorship_tag": "ABX9TyNIC/FESLNNfz+SB45do8gU",
      "include_colab_link": true
    },
    "kernelspec": {
      "name": "python3",
      "display_name": "Python 3"
    },
    "language_info": {
      "name": "python"
    }
  },
  "cells": [
    {
      "cell_type": "markdown",
      "metadata": {
        "id": "view-in-github",
        "colab_type": "text"
      },
      "source": [
        "<a href=\"https://colab.research.google.com/github/ethirald/Udemy---210-Excercise/blob/main/intro.ipynb\" target=\"_parent\"><img src=\"https://colab.research.google.com/assets/colab-badge.svg\" alt=\"Open In Colab\"/></a>"
      ]
    },
    {
      "cell_type": "markdown",
      "source": [
        "###Sales"
      ],
      "metadata": {
        "id": "92DKgbaw1hjT"
      }
    },
    {
      "cell_type": "code",
      "source": [
        "revenue = 10000\n",
        "tax = 0.19\n",
        "income = revenue * tax\n",
        "income"
      ],
      "metadata": {
        "colab": {
          "base_uri": "https://localhost:8080/"
        },
        "id": "dZ_UPrEu1Fws",
        "outputId": "e9a74cd7-cb55-4ccf-c716-d172eb819c89"
      },
      "execution_count": null,
      "outputs": [
        {
          "output_type": "execute_result",
          "data": {
            "text/plain": [
              "1900.0"
            ]
          },
          "metadata": {},
          "execution_count": 6
        }
      ]
    },
    {
      "cell_type": "code",
      "source": [
        "print(income)"
      ],
      "metadata": {
        "colab": {
          "base_uri": "https://localhost:8080/"
        },
        "id": "ccNLWM0o1Rgn",
        "outputId": "4b7ae1bd-6870-48c1-e1a1-331588cbc4cb"
      },
      "execution_count": null,
      "outputs": [
        {
          "output_type": "stream",
          "name": "stdout",
          "text": [
            "1900.0\n"
          ]
        }
      ]
    },
    {
      "cell_type": "markdown",
      "source": [
        "###Summary"
      ],
      "metadata": {
        "id": "XiSZl3Zd1mfW"
      }
    },
    {
      "cell_type": "code",
      "source": [
        "import numpy as np\n",
        "np.__version__"
      ],
      "metadata": {
        "colab": {
          "base_uri": "https://localhost:8080/",
          "height": 35
        },
        "id": "HuBzY2861TwT",
        "outputId": "4781cab2-3246-4f43-dff6-cd5f2a16a159"
      },
      "execution_count": null,
      "outputs": [
        {
          "output_type": "execute_result",
          "data": {
            "text/plain": [
              "'1.25.2'"
            ],
            "application/vnd.google.colaboratory.intrinsic+json": {
              "type": "string"
            }
          },
          "metadata": {},
          "execution_count": 14
        }
      ]
    },
    {
      "cell_type": "code",
      "source": [
        "np.random.rand?"
      ],
      "metadata": {
        "id": "cWTl3qw21yV6"
      },
      "execution_count": null,
      "outputs": []
    },
    {
      "cell_type": "code",
      "source": [
        "!pip install imageai"
      ],
      "metadata": {
        "colab": {
          "base_uri": "https://localhost:8080/"
        },
        "id": "hwNap5o3178S",
        "outputId": "bad428e1-6d00-4e38-e37f-4ee5ea4f6ced"
      },
      "execution_count": null,
      "outputs": [
        {
          "output_type": "stream",
          "name": "stdout",
          "text": [
            "Collecting imageai\n",
            "  Downloading imageai-3.0.3-py3-none-any.whl (69 kB)\n",
            "\u001b[2K     \u001b[90m━━━━━━━━━━━━━━━━━━━━━━━━━━━━━━━━━━━━━━━━\u001b[0m \u001b[32m69.8/69.8 kB\u001b[0m \u001b[31m2.0 MB/s\u001b[0m eta \u001b[36m0:00:00\u001b[0m\n",
            "\u001b[?25hInstalling collected packages: imageai\n",
            "Successfully installed imageai-3.0.3\n"
          ]
        }
      ]
    },
    {
      "cell_type": "code",
      "source": [
        "import imageai"
      ],
      "metadata": {
        "id": "TZm5NHrG1-c7"
      },
      "execution_count": null,
      "outputs": []
    },
    {
      "cell_type": "markdown",
      "source": [
        "### Markdown"
      ],
      "metadata": {
        "id": "5jcSx3s82Pvr"
      }
    },
    {
      "cell_type": "markdown",
      "source": [
        "Example of *markdown*  \n",
        "Example of **markdown**  \n",
        "Example of __markdown__  \n",
        "Example of `markdown`  \n",
        "```\n",
        "Example of markdown\n",
        "```\n",
        "> Python\n",
        "> Code\n",
        "\n",
        "An ordered list:\n",
        "1. One\n",
        "2. Two\n",
        "3. Three\n",
        "\n",
        "An unordered list:\n",
        "* One\n",
        "* Two\n",
        "* Three\n",
        "\n",
        "[Google](www.google.it)  \n",
        "![Python](https://encrypted-tbn0.gstatic.com/images?q=tbn:ANd9GcQmmngeGJFNocA_JXfnBGI-yKvz1WNGQ2P7hYqKDrpO2w&s)\n",
        "\n"
      ],
      "metadata": {
        "id": "GxRYXsJp2S2k"
      }
    },
    {
      "cell_type": "markdown",
      "source": [
        "$ y = x^2 $  \n",
        "$ y = \\frac{\\frac{x^3}{3x^2}}{\\frac{x^5-x^2}{ \\sum_{i=1}{(3x+n)^n}}} $"
      ],
      "metadata": {
        "id": "p3uYSn2X3hQL"
      }
    },
    {
      "cell_type": "markdown",
      "source": [
        "$A = \\begin{pmatrix}\n",
        "a_{1, 1} & a_{1, 2} & a_{1, 3} \\\\\n",
        "a_{2, 1} & a_{2, 2} & a_{2, 3} \\\\\n",
        "a_{3, 1} & a_{3, 2} & a_{3, 3}\n",
        "\\end{pmatrix}$"
      ],
      "metadata": {
        "id": "8vWcQhYe5bIZ"
      }
    },
    {
      "cell_type": "markdown",
      "source": [
        "$A = \\begin{matrix}\n",
        "a_{1, 1} & a_{1, 2} & a_{1, 3} \\\\\n",
        "a_{2, 1} & a_{2, 2} & a_{2, 3} \\\\\n",
        "a_{3, 1} & a_{3, 2} & a_{3, 3}\n",
        "\\end{matrix}$"
      ],
      "metadata": {
        "id": "d1Z3_-QU-dg5"
      }
    },
    {
      "cell_type": "markdown",
      "source": [
        "Header1 | Header2 | Header3 |\n",
        "---|---|---|\n",
        "Value1 | Value2 | Value3 |\n",
        "Value4 | Value5 | Value6 |"
      ],
      "metadata": {
        "id": "lOGK_hAr_0KA"
      }
    },
    {
      "cell_type": "markdown",
      "source": [
        "### Exercise"
      ],
      "metadata": {
        "id": "ITI3v629tMVv"
      }
    },
    {
      "cell_type": "code",
      "source": [
        "    import datetime\n",
        "\n",
        "\n",
        "    d1 = datetime.date(2020, 7, 21)\n",
        "    d2 = datetime.date(2020, 12, 31)\n",
        "    diff = (d2 - d1).days\n",
        "    print(f'Number of days: {diff}')"
      ],
      "metadata": {
        "colab": {
          "base_uri": "https://localhost:8080/"
        },
        "id": "mSgIcShE2QoB",
        "outputId": "84deacd2-6331-434d-a093-759e7384905a"
      },
      "execution_count": null,
      "outputs": [
        {
          "output_type": "stream",
          "name": "stdout",
          "text": [
            "Number of days: 163\n"
          ]
        }
      ]
    },
    {
      "cell_type": "code",
      "source": [
        "#Using the built-in datetime module, determine the exact time elapsed between the dates:\n",
        "#Jul 20 2020 11:30:00\n",
        "#2021-02-20 10:25:00\n",
        "#Then print the result to the console\n",
        "\n",
        "import datetime\n",
        "diff = datetime.datetime(2021,2,20,10,25,0) - datetime.datetime(2020,7,20,11,30,0)\n",
        "print(diff)"
      ],
      "metadata": {
        "colab": {
          "base_uri": "https://localhost:8080/"
        },
        "id": "fkqeAhHGtFjP",
        "outputId": "74084c4f-4e1f-4adc-8e86-9875a6b76745"
      },
      "execution_count": null,
      "outputs": [
        {
          "output_type": "stream",
          "name": "stdout",
          "text": [
            "214 days, 22:55:00\n"
          ]
        }
      ]
    },
    {
      "cell_type": "code",
      "source": [
        "'''\n",
        "Using the built-in datetime module, the datetime class and the datetime.datetime.strftime() method format the following date:\n",
        "    2021-04-20 11:30:00\n",
        "To the following formats:\n",
        "    2021-04-20\n",
        "    20-04-2021\n",
        "    04-2021\n",
        "    April-2021\n",
        "    20 April, 2021\n",
        "    2021-04-20 11:30:00\n",
        "    04/20/21 11:30:00\n",
        "    20(Tue) April 2021\n",
        "Then print the formatted dates to the console.\n",
        "'''\n",
        "from datetime import datetime\n",
        "a = datetime(2021,4,20,11,30,00)\n",
        "print(a.strftime('%Y-%m-%d'))\n",
        "print(a.strftime('%d-%m-%Y'))\n",
        "print(a.strftime('%m-%Y'))\n",
        "print(a.strftime('%B-%Y'))\n",
        "print(a.strftime('%d %B, %Y'))\n",
        "print(a.strftime('%Y-%m-%d %H:%M:%S'))\n",
        "print(a.strftime('%m/%d/%y %H:%M:%S'))\n",
        "print(a.strftime('%d(%a) %B %Y'))"
      ],
      "metadata": {
        "colab": {
          "base_uri": "https://localhost:8080/"
        },
        "id": "nNShoBlAtFhM",
        "outputId": "009ac6b2-faf3-4e9b-af34-79f224365423"
      },
      "execution_count": null,
      "outputs": [
        {
          "output_type": "stream",
          "name": "stdout",
          "text": [
            "2021-04-20\n",
            "20-04-2021\n",
            "04-2021\n",
            "April-2021\n",
            "20 April, 2021\n",
            "2021-04-20 11:30:00\n",
            "04/20/21 11:30:00\n",
            "20(Tue) April 2021\n"
          ]
        }
      ]
    },
    {
      "cell_type": "code",
      "source": [
        "'''Using the built-in datetime module and the datetime.datetime.strptime() function, parse the following str objects:\n",
        "    date_str_1 = '3 March 1995'\n",
        "    date_str_2 = '3/9/1995'\n",
        "    date_str_3 = '21-07-2021'\n",
        "to datetime objects. Print the result to the console.'''\n",
        "from datetime import datetime\n",
        "\n",
        "date_str_1 = '3 March 1995'\n",
        "date_str_2 = '3/9/1995'\n",
        "date_str_3 = '21-07-2021'\n",
        "\n",
        "dt1 = datetime.strptime(date_str_1, '%d %B %Y')\n",
        "dt2 = datetime.strptime(date_str_2, '%d/%m/%Y')\n",
        "dt3 = datetime.strptime(date_str_3, '%d-%m-%Y')\n",
        "\n",
        "print(dt1)\n",
        "print(dt2)\n",
        "print(dt3)"
      ],
      "metadata": {
        "colab": {
          "base_uri": "https://localhost:8080/"
        },
        "id": "QJSu10-svmw8",
        "outputId": "35183ff2-df9d-4138-ffdb-9b94f6fd07f3"
      },
      "execution_count": null,
      "outputs": [
        {
          "output_type": "stream",
          "name": "stdout",
          "text": [
            "1995-03-03 00:00:00\n",
            "1995-09-03 00:00:00\n",
            "2021-07-21 00:00:00\n"
          ]
        }
      ]
    },
    {
      "cell_type": "code",
      "source": [
        "#Using the built-in datetime module, calculate the number of days until the end of the current year.\n",
        "\n",
        "import datetime\n",
        "print(f'Number of days until the end of the year: {abs(datetime.datetime(datetime.date.today().year+1,1,1)-datetime.datetime.now()).days}')"
      ],
      "metadata": {
        "colab": {
          "base_uri": "https://localhost:8080/"
        },
        "id": "rDQczE4w2k0H",
        "outputId": "58cdf915-a914-4d91-d4c0-9254ef052679"
      },
      "execution_count": null,
      "outputs": [
        {
          "output_type": "stream",
          "name": "stdout",
          "text": [
            "Number of days until the end of the year: 241\n"
          ]
        }
      ]
    },
    {
      "cell_type": "code",
      "source": [
        "#Using the built-in datetime module, calculate the exact time remaining until the end of the current year.\n",
        "\n",
        "import datetime\n",
        "print(f'Until the end of the year: {abs(datetime.datetime(datetime.date.today().year+1,1,1)-datetime.datetime.today())}')"
      ],
      "metadata": {
        "id": "Zk3WAfeS2m45"
      },
      "execution_count": null,
      "outputs": []
    },
    {
      "cell_type": "code",
      "source": [
        "'''Using the built-in datetime module, the date and timedelta classes from the given date 2020-01-01 00:00:00 get the date:\n",
        "  shifted by 7 days\n",
        "  shifted by 30 days\n",
        "  shifted by 30 hours\n",
        "  shifted by 15 minutes'''\n",
        "\n",
        "import datetime\n",
        "d1 = datetime.datetime(2020,1,1,0,0,0)\n",
        "\n",
        "#print(d1)\n",
        "print((d1+datetime.timedelta(7)).strftime('%Y-%m-%d %H:%M:%S'))\n",
        "print((d1+datetime.timedelta(30)).strftime('%Y-%m-%d %H:%M:%S'))\n",
        "print((d1+datetime.timedelta(hours=30)).strftime('%Y-%m-%d %H:%M:%S'))\n",
        "print((d1+datetime.timedelta(minutes=15)).strftime('%Y-%m-%d %H:%M:%S'))"
      ],
      "metadata": {
        "colab": {
          "base_uri": "https://localhost:8080/"
        },
        "id": "w-ZNIz7ZCINc",
        "outputId": "1d88121b-8fd0-4e6b-c7cc-7209e505412c"
      },
      "execution_count": null,
      "outputs": [
        {
          "output_type": "stream",
          "name": "stdout",
          "text": [
            "2020-01-08 00:00:00\n",
            "2020-01-31 00:00:00\n",
            "2020-01-02 06:00:00\n",
            "2020-01-01 00:15:00\n"
          ]
        }
      ]
    },
    {
      "cell_type": "code",
      "source": [
        "'''\n",
        "Using the built-in datetime module, datetime and timedelta classes, create a list of dates and assign to variable dates.\n",
        "Dates start from 2020-01-01 00:00:00, end on 2020-01-04 16:00:00 and differ by 8h. Then print each date to the console.\n",
        "'''\n",
        "\n",
        "import datetime\n",
        "a = datetime.datetime(2020,1,1,0,0)\n",
        "delta = datetime.timedelta(hours=8)\n",
        "dates = [a + i * delta for i in range(12)]\n",
        "\n",
        "for date in dates:\n",
        "    print(date)"
      ],
      "metadata": {
        "colab": {
          "base_uri": "https://localhost:8080/"
        },
        "id": "KI3LJiOVKQue",
        "outputId": "85559ed5-f6d6-4291-8890-994cc54332a5"
      },
      "execution_count": null,
      "outputs": [
        {
          "output_type": "stream",
          "name": "stdout",
          "text": [
            "2020-01-01 00:00:00\n",
            "2020-01-01 08:00:00\n",
            "2020-01-01 16:00:00\n",
            "2020-01-02 00:00:00\n",
            "2020-01-02 08:00:00\n",
            "2020-01-02 16:00:00\n",
            "2020-01-03 00:00:00\n",
            "2020-01-03 08:00:00\n",
            "2020-01-03 16:00:00\n",
            "2020-01-04 00:00:00\n",
            "2020-01-04 08:00:00\n",
            "2020-01-04 16:00:00\n"
          ]
        }
      ]
    },
    {
      "cell_type": "code",
      "source": [
        "# Using the built-in datetime module calculate the future value of the investment (present value)\n",
        "#of USD 1000 with an annual interest rate of 4% (rate) and daily compound capitalization of interest,\n",
        "#assuming the duration of the investment from 2021-07-01 to 2021-12-31. For calculations, assume that the year has 365 days.\n",
        "\n",
        "import datetime\n",
        "\n",
        "rate = 0.04\n",
        "pv = 1000\n",
        "duration = datetime.date(2021,12,31)-datetime.date(2021,7,1)\n",
        "#  Future value = Capital x (1 + daily rate )^days\n",
        "future_value  = pv * (1 + rate/365) ** duration.days\n",
        "print(f'Future value: $ {future_value:.2f}')"
      ],
      "metadata": {
        "colab": {
          "base_uri": "https://localhost:8080/"
        },
        "id": "lgne162KRVRN",
        "outputId": "0be3a042-1629-4de6-e1ea-95b3431b1ff2"
      },
      "execution_count": 1,
      "outputs": [
        {
          "output_type": "stream",
          "name": "stdout",
          "text": [
            "Future value: $ 1020.26\n"
          ]
        }
      ]
    },
    {
      "cell_type": "code",
      "source": [
        "import os\n",
        "#Using the built-in os module, print the current working directory to the console.\n",
        "\n",
        "print(os.getcwd())\n",
        "\n",
        "#Using the built-in os module print to the console a list containing the names of all files in the working directory.\n",
        "\n",
        "print(os.listdir(path=None))\n",
        "\n",
        "'''\n",
        "Using the built-in os module create names list containing the names of all files and directories\n",
        "in your working directory which names starts with letter 'p'. Sort this list alphabetically.\n",
        "In response, print the names list to the console.\n",
        "'''\n",
        "\n",
        "#Sol A\n",
        "\n",
        "names = []\n",
        "for name in os.listdir():\n",
        "    if name[0] == 'p':\n",
        "        names.append(name)\n",
        "names.sort()\n",
        "print(names)\n",
        "\n",
        "# Sol B - oneliner\n",
        "names = sorted([name for name in os.listdir() if name.startswith('e')])\n",
        "print(names)\n",
        "\n",
        "'''\n",
        "Using the built-in os module create names list containing file names in your working directory with a .py extension.\n",
        "Sort this list alphabetically.\n",
        "In response, print this list to the console.\n",
        "\n",
        "'''\n",
        "pynames = sorted([file for file in os.listdir() if file.endswith('.py')])\n",
        "print(pynames)\n",
        "\n",
        "'''\n",
        "Using the built-in os module create images directory in your working directory.\n",
        "Then go to the images directory and print the current path to the working directory.\n",
        "'''\n",
        "\n",
        "os.mkdir('images')\n",
        "os.chdir('images')\n",
        "print(os.getcwd())\n",
        "\n",
        "'''\n",
        "Using the built-in os module in your working directory create a directory called documents.\n",
        "Then, in the documents directory, create 12 directories for each month with the names 01_sales, ..., 12_sales, respectively.\n",
        "In response, print directory names sorted alphabetically in the documents directory to the console.\n",
        "'''\n",
        "#Sol A\n",
        "os.mkdir('documents')\n",
        "os.chdir('documents')\n",
        "for i in range(1,13):\n",
        "    os.mkdir(f'{i:02}_sales')\n",
        "\n",
        "print(sorted(os.listdir()))\n",
        "\n",
        "#Sol B - suggested by tutor\n",
        "os.mkdir('documents')\n",
        "dirnames = [f'{str(i).zfill(2)}_sales' for i in range(1, 13)]\n",
        "for dirname in dirnames:\n",
        "    path = os.path.join('documents', dirname)\n",
        "    os.mkdir(path)\n",
        "print(sorted(os.listdir('documents')))\n",
        "\n",
        "'''\n",
        "Using the built-in os module create a directory called images.\n",
        "Then create two directories in this directory named images_png and images_jpg.\n",
        "Before creating each directory, check if such directory exists.\n",
        "\n",
        "In response, execute the following code:\n",
        "\n",
        "    for root, dirs, files in os.walk(base_dir):\n",
        "        print(root)\n",
        "'''\n",
        "base_dir = 'images'\n",
        "png_dir = os.path.join(base_dir, 'images_png')\n",
        "jpg_dir = os.path.join(base_dir, 'images_jpg')\n",
        "\n",
        "if not os.path.exists(base_dir):\n",
        "    os.mkdir(base_dir)\n",
        "\n",
        "if not os.path.exists(png_dir):\n",
        "    os.mkdir(png_dir)\n",
        "\n",
        "if not os.path.exists(jpg_dir):\n",
        "    os.mkdir(jpg_dir)\n",
        "\n",
        "for root, dirs, files in os.walk(base_dir):\n",
        "    print(root)\n"
      ],
      "metadata": {
        "id": "V3WsywvwB-tX"
      },
      "execution_count": null,
      "outputs": []
    },
    {
      "cell_type": "code",
      "source": [
        "import os\n",
        "import random\n",
        "\n",
        "\n",
        "random.seed(30)\n",
        "images = [\n",
        "    f\"{str(i).zfill(3)}_image.{random.choice(['png', 'jpg'])}\"\n",
        "    for i in range(1, 20)\n",
        "]\n",
        "\n",
        "base_dir = 'images'\n",
        "\n",
        "if not os.path.exists(base_dir):\n",
        "    os.mkdir(base_dir)\n",
        "png_dir = os.path.join(base_dir, 'images_png')\n",
        "jpg_dir = os.path.join(base_dir, 'images_jpg')\n",
        "\n",
        "if not os.path.exists(png_dir):\n",
        "    os.mkdir(png_dir)\n",
        "if not os.path.exists(jpg_dir):\n",
        "    os.mkdir(jpg_dir)\n",
        "\n",
        "for image in images:\n",
        "    if image.endswith('.png'):\n",
        "        os.\n",
        "\n",
        "for root, dirs, files in os.walk(base_dir):\n",
        "    print(root)\n",
        "    for file in sorted(files):\n",
        "        print(f'\\t{file}')\n"
      ],
      "metadata": {
        "id": "6wAWfEbhRiEG"
      },
      "execution_count": null,
      "outputs": []
    },
    {
      "cell_type": "code",
      "source": [
        "'''\n",
        "1. The image names were generated in two formats .png and .jpg.\n",
        "2. Next, a directory called images was created.\n",
        "3. Then two directories were also created in this directory named images_png and images_jpg.\n",
        "4. Assign file names to appropriate directories:\n",
        "      files with the extension .png to the images_png directory\n",
        "      files with the extension .jpg to the images_jpg directory\n",
        "5. Create empty files with the given names.\n",
        "'''\n",
        "import os\n",
        "import random\n",
        "\n",
        "\n",
        "random.seed(30)\n",
        "images = [f\"{str(i).zfill(3)}_image.{random.choice(['png', 'jpg'])}\" for i in range(1, 20)]\n",
        "\n",
        "base_dir = 'images'\n",
        "\n",
        "if not os.path.exists(base_dir):\n",
        "    os.mkdir(base_dir)\n",
        "png_dir = os.path.join(base_dir, 'images_png')\n",
        "jpg_dir = os.path.join(base_dir, 'images_jpg')\n",
        "\n",
        "if not os.path.exists(png_dir):\n",
        "    os.mkdir(png_dir)\n",
        "if not os.path.exists(jpg_dir):\n",
        "    os.mkdir(jpg_dir)\n",
        "\n",
        "for image in images:\n",
        "    if image.endswith('.png'):\n",
        "        open(f'{png_dir}/{image}', 'w')\n",
        "    else:\n",
        "        open(f'{jpg_dir}/{image}', 'w')\n",
        "\n",
        "for root, dirs, files in os.walk(base_dir):\n",
        "    print(root)\n",
        "    for file in sorted(files):\n",
        "        print(f'\\t{file}')\n"
      ],
      "metadata": {
        "colab": {
          "base_uri": "https://localhost:8080/"
        },
        "id": "De673jbjU4Td",
        "outputId": "0d65b4e6-ab2c-4f51-ef5a-9e276d02545b"
      },
      "execution_count": 10,
      "outputs": [
        {
          "output_type": "stream",
          "name": "stdout",
          "text": [
            "images\n",
            "images/images_jpg\n",
            "\t001_image.jpg\n",
            "\t003_image.jpg\n",
            "\t004_image.jpg\n",
            "\t005_image.jpg\n",
            "\t006_image.jpg\n",
            "\t007_image.jpg\n",
            "\t009_image.jpg\n",
            "\t010_image.jpg\n",
            "\t012_image.jpg\n",
            "\t016_image.jpg\n",
            "\t017_image.jpg\n",
            "\t019_image.jpg\n",
            "images/images_png\n",
            "\t002_image.png\n",
            "\t003_image.png\n",
            "\t004_image.png\n",
            "\t005_image.png\n",
            "\t008_image.png\n",
            "\t009_image.png\n",
            "\t011_image.png\n",
            "\t012_image.png\n",
            "\t013_image.png\n",
            "\t014_image.png\n",
            "\t015_image.png\n",
            "\t018_image.png\n"
          ]
        }
      ]
    }
  ]
}